{
  "cells": [
    {
      "cell_type": "markdown",
      "metadata": {
        "id": "view-in-github",
        "colab_type": "text"
      },
      "source": [
        "<a href=\"https://colab.research.google.com/github/anirudh2843/Natural-Language-Processing/blob/master/Types%20of%20Tokenization%20/white%26spacy.ipynb\" target=\"_parent\"><img src=\"https://colab.research.google.com/assets/colab-badge.svg\" alt=\"Open In Colab\"/></a>"
      ]
    },
    {
      "cell_type": "code",
      "source": [
        "import spacy\n",
        "nlp=spacy.load(\"en_core_web_sm\")\n",
        "text=\"Just in a few years, natural language processing has evolved into something so powerful and impactful, which no one could have imagined.\";\n",
        "\n",
        "white_space=text.split()\n",
        "spacy_text=[token.text for token in nlp(text)]\n",
        "\n",
        "\n",
        "print(white_space)\n",
        "print(spacy_text)\n",
        "\n",
        "\n",
        "print(len(white_space))\n",
        "print(len(spacy_text))\n",
        "\n"
      ],
      "metadata": {
        "id": "aDDc3GJ0G7ke",
        "outputId": "216d85a9-cd0b-43fc-fac6-04d12b99d226",
        "colab": {
          "base_uri": "https://localhost:8080/"
        }
      },
      "execution_count": null,
      "outputs": [
        {
          "output_type": "stream",
          "name": "stdout",
          "text": [
            "['Just', 'in', 'a', 'few', 'years,', 'natural', 'language', 'processing', 'has', 'evolved', 'into', 'something', 'so', 'powerful', 'and', 'impactful,', 'which', 'no', 'one', 'could', 'have', 'imagined.']\n",
            "['Just', 'in', 'a', 'few', 'years', ',', 'natural', 'language', 'processing', 'has', 'evolved', 'into', 'something', 'so', 'powerful', 'and', 'impactful', ',', 'which', 'no', 'one', 'could', 'have', 'imagined', '.']\n",
            "22\n",
            "25\n"
          ]
        }
      ]
    }
  ],
  "metadata": {
    "colab": {
      "provenance": [],
      "include_colab_link": true
    },
    "kernelspec": {
      "display_name": "Python 3",
      "name": "python3"
    }
  },
  "nbformat": 4,
  "nbformat_minor": 0
}